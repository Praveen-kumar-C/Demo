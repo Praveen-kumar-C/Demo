{
 "cells": [
  {
   "cell_type": "code",
   "execution_count": 1,
   "metadata": {},
   "outputs": [
    {
     "name": "stderr",
     "output_type": "stream",
     "text": [
      "C:\\Users\\user\\.conda\\envs\\Praveen\\lib\\site-packages\\ipykernel_launcher.py:18: DeprecationWarning: use options instead of chrome_options\n"
     ]
    }
   ],
   "source": [
    "import os\n",
    "\n",
    "import datetime\n",
    "\n",
    "import time t\n",
    "\n",
    "from time import sleep\n",
    "\n",
    "from selenium import webdriver\n",
    "\n",
    "from selenium.webdriver.chrome.options import Options\n",
    "\n",
    "option = Options()\n",
    "\n",
    "option.add_argument(\"--disable-infobars\")\n",
    "option.add_argument(\"start-maximized\")\n",
    "option.add_argument(\"--disable-extensions\")\n",
    "\n",
    "# Pass the argument 1 to allow and 2 to block\n",
    "option.add_experimental_option(\"prefs\", { \"profile.default_content_setting_values.notifications\": 2\n",
    "                                           #\"profile.default_content_setting_values.geolocation\": 1,   \n",
    "                                        })\n",
    "\n",
    "chrome_browser = webdriver.Chrome(chrome_options=option)\n",
    "\n",
    "\n",
    "chrome_browser.get('https://www.facebook.com/') # Enter in FB login page\n",
    "\n",
    "sleep(5)\n",
    "\n",
    "username_box = chrome_browser.find_element_by_id('email')\n",
    "\n",
    "username_box.send_keys('7358920316')# you can pass either email/phone number\n",
    "\n",
    "\n",
    "password_box = chrome_browser.find_element_by_id('pass')\n",
    "\n",
    "password_box.send_keys('Iw2BAB@26.@@FB')\n",
    "\n",
    "login_button = chrome_browser.find_element_by_id('u_0_b')\n",
    "\n",
    "login_button.click()\n",
    "\n",
    "sleep(7)\n",
    "\n",
    "#chrome_browser.switch_to_alert().dismiss()\n",
    "\n",
    "chrome_browser.save_screenshot('C:/Users/user/Desktop/demo.png')\n",
    "\n",
    "sleep(10)\n",
    "\n",
    "chrome_browser.close() # To Close the driver connection\n",
    "\n",
    "chrome_browser.quit() # To Close the browser\n"
   ]
  },
  {
   "cell_type": "code",
   "execution_count": null,
   "metadata": {},
   "outputs": [],
   "source": []
  }
 ],
 "metadata": {
  "kernelspec": {
   "display_name": "Python 3",
   "language": "python",
   "name": "python3"
  },
  "language_info": {
   "codemirror_mode": {
    "name": "ipython",
    "version": 3
   },
   "file_extension": ".py",
   "mimetype": "text/x-python",
   "name": "python",
   "nbconvert_exporter": "python",
   "pygments_lexer": "ipython3",
   "version": "3.7.9"
  }
 },
 "nbformat": 4,
 "nbformat_minor": 4
}
